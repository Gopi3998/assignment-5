{
 "cells": [
  {
   "cell_type": "code",
   "execution_count": 1,
   "id": "5977e9c6",
   "metadata": {},
   "outputs": [
    {
     "name": "stdout",
     "output_type": "stream",
     "text": [
      "100\n"
     ]
    }
   ],
   "source": [
    "#Write a Python class to implement pow(x, n)\n",
    "\n",
    "# Function to calculate x\n",
    "\n",
    "# raised to the power n\n",
    "\n",
    "def power(x, n):\n",
    "    \n",
    "    if (n == 0):\n",
    "\n",
    "        return 1\n",
    "\n",
    "    elif (int(n % 2) == 0):\n",
    "\n",
    "        return (power(x, int(n / 2)) * power(x, int(n / 2)))\n",
    "\n",
    "    else:\n",
    "\n",
    "        return (x * power(x, int(n / 2)) * power(x, int(n / 2)))\n",
    "\n",
    " \n",
    "\n",
    "# Driver Code\n",
    "\n",
    "x = 10; n = 2\n",
    "\n",
    "print(power(x, n))"
   ]
  },
  {
   "cell_type": "code",
   "execution_count": null,
   "id": "6a99335d",
   "metadata": {},
   "outputs": [],
   "source": []
  }
 ],
 "metadata": {
  "kernelspec": {
   "display_name": "Python 3",
   "language": "python",
   "name": "python3"
  },
  "language_info": {
   "codemirror_mode": {
    "name": "ipython",
    "version": 3
   },
   "file_extension": ".py",
   "mimetype": "text/x-python",
   "name": "python",
   "nbconvert_exporter": "python",
   "pygments_lexer": "ipython3",
   "version": "3.8.8"
  }
 },
 "nbformat": 4,
 "nbformat_minor": 5
}
